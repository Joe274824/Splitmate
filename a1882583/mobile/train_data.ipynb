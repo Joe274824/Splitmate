{
 "cells": [
  {
   "cell_type": "code",
   "execution_count": 5,
   "metadata": {},
   "outputs": [
    {
     "name": "stdout",
     "output_type": "stream",
     "text": [
      "/home/hgq/miniconda3/envs/jitfine/bin/python\n"
     ]
    }
   ],
   "source": [
    "import cv2\n",
    "import os\n",
    "import numpy as np\n",
    "\n",
    "\n",
    "dataset_path = '/home/hgq/Projects/mobile/face_data'\n",
    "face_data = []\n",
    "labels = []\n",
    "\n",
    "for folder in os.listdir(dataset_path):\n",
    "    folder_path = os.path.join(dataset_path, folder)\n",
    "    if os.path.isdir(folder_path):\n",
    "        label = int(folder) \n",
    "        # label = folder\n",
    "        for file in os.listdir(folder_path):\n",
    "            file_path = os.path.join(folder_path, file)\n",
    "            if file_path.endswith('.jpg') or file_path.endswith('.png'):\n",
    "                image = cv2.imread(file_path, 0)\n",
    "                if image is not None:\n",
    "                    face_detector = cv2.CascadeClassifier('/home/hgq/Projects/mobile/haarcascade_frontalface_default.xml')\n",
    "                    faces = face_detector.detectMultiScale(image)\n",
    "                    for (x, y, w, h) in faces:\n",
    "                        face_data.append(image[y:y+h, x:x+w])\n",
    "                        labels.append(label)\n",
    "                else:\n",
    "                    print(f\"Warning: Skipped unrecognized image file {file_path}\")\n",
    "\n",
    "if len(face_data) > 0:\n",
    "    labels = np.array(labels)\n",
    "    face_samples = face_data\n",
    "    \n",
    "    recognizer = cv2.face.LBPHFaceRecognizer_create()\n",
    "    \n",
    "    recognizer.train(face_samples, labels)\n",
    "    recognizer.write('trainer.yml')\n",
    "    print('Model trained and saved successfully!')\n",
    "else:\n",
    "    print('No valid image data found for training.')"
   ]
  }
 ],
 "metadata": {
  "kernelspec": {
   "display_name": "mobile",
   "language": "python",
   "name": "python3"
  },
  "language_info": {
   "codemirror_mode": {
    "name": "ipython",
    "version": 3
   },
   "file_extension": ".py",
   "mimetype": "text/x-python",
   "name": "python",
   "nbconvert_exporter": "python",
   "pygments_lexer": "ipython3",
   "version": "3.8.12"
  }
 },
 "nbformat": 4,
 "nbformat_minor": 2
}
